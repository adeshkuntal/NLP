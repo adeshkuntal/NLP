{
  "cells": [
    {
      "cell_type": "markdown",
      "metadata": {
        "id": "view-in-github",
        "colab_type": "text"
      },
      "source": [
        "<a href=\"https://colab.research.google.com/github/aryan151pratap/NLP/blob/main/step_1_.ipynb\" target=\"_parent\"><img src=\"https://colab.research.google.com/assets/colab-badge.svg\" alt=\"Open In Colab\"/></a>"
      ]
    },
    {
      "cell_type": "markdown",
      "metadata": {
        "id": "VMcpHrRXv6RF"
      },
      "source": [
        "1. corpus -> collection of all documents\n",
        "2. vocabulary -> unique wors in corpus (unique words in all documents)\n",
        "3. synset -> set synonym words\n",
        "4. lama -> any words from synset (set of synonym)"
      ]
    },
    {
      "cell_type": "code",
      "execution_count": null,
      "metadata": {
        "colab": {
          "base_uri": "https://localhost:8080/"
        },
        "id": "wMJSeDJeuerx",
        "outputId": "ef42d840-e146-4ae0-c1a0-eb0d6c336153"
      },
      "outputs": [
        {
          "name": "stderr",
          "output_type": "stream",
          "text": [
            "[nltk_data] Downloading package wordnet to /root/nltk_data...\n",
            "[nltk_data] Downloading package omw-1.4 to /root/nltk_data...\n",
            "[nltk_data] Downloading package punkt to /root/nltk_data...\n",
            "[nltk_data]   Unzipping tokenizers/punkt.zip.\n",
            "[nltk_data] Downloading package punkt_tab to /root/nltk_data...\n",
            "[nltk_data]   Unzipping tokenizers/punkt_tab.zip.\n"
          ]
        },
        {
          "data": {
            "text/plain": [
              "True"
            ]
          },
          "execution_count": 1,
          "metadata": {},
          "output_type": "execute_result"
        }
      ],
      "source": [
        "import random # used to select random words or action\n",
        "import nltk # import the nural language\n",
        "from nltk.corpus import wordnet #\n",
        "nltk.download('wordnet')\n",
        "nltk.download('omw-1.4')\n",
        "nltk.download('punkt')\n",
        "nltk.download('punkt_tab')"
      ]
    },
    {
      "cell_type": "code",
      "execution_count": null,
      "metadata": {
        "id": "ZqPKBwpCuqrc"
      },
      "outputs": [],
      "source": [
        "text = \"True movie was absolutely fantastic and enjoyable\""
      ]
    },
    {
      "cell_type": "code",
      "execution_count": null,
      "metadata": {
        "id": "yFbCBfEqxi9L"
      },
      "outputs": [],
      "source": [
        "def get_synonms(word):\n",
        "  synonyms = set()\n",
        "\n",
        "  for syn in wordnet.synsets(word):\n",
        "    for lemma in syn.lemmas():\n",
        "      synonym = lema.name().replace(\"-\", \" \")\n",
        "\n",
        "      if synonym.lower() != word.lower():\n",
        "        synonyms.add(synonym)\n",
        "\n",
        "  return list(synonyms)\n",
        "\n",
        "def synonym_replacement(text, n=2):\n",
        "  words = nltk.word_tokenize(text)\n",
        "\n",
        "  new_words = words.copy()\n",
        "  random_word_list = list(set([word for word in words if word not in new_words]))\n",
        "  random.shuffle(random_word_list)\n",
        "\n",
        "  num_replaced=0\n",
        "\n",
        "  for word in random_word_list:\n",
        "    synonyms = get_synonms(word)\n",
        "    if synonyms:\n",
        "      synonyms = random.choice(synonyms)\n",
        "\n",
        "      new_words = [synonyms if w == word else w for w in new_words]\n",
        "      num_replaced += 1\n",
        "\n",
        "    if num_replaced >= n:\n",
        "      break\n",
        "\n",
        "  return ' '.join(new_words)\n"
      ]
    },
    {
      "cell_type": "code",
      "execution_count": null,
      "metadata": {
        "colab": {
          "base_uri": "https://localhost:8080/"
        },
        "id": "g8LmANyfyS32",
        "outputId": "3681da95-d0a9-4651-fef6-d202fc20135c"
      },
      "outputs": [
        {
          "name": "stdout",
          "output_type": "stream",
          "text": [
            "Original True movie was absolutely fantastic and enjoyable\n",
            "Augmented True movie was absolutely fantastic and enjoyable\n"
          ]
        }
      ],
      "source": [
        "original = \"True movie was absolutely fantastic and enjoyable\"\n",
        "augmentated = synonym_replacement(original, n=2)\n",
        "print('Original', original)\n",
        "print('Augmented', augmentated)"
      ]
    },
    {
      "cell_type": "code",
      "execution_count": null,
      "metadata": {
        "id": "-hb4CxFf0ymj"
      },
      "outputs": [],
      "source": [
        "def bigram_flip(text):\n",
        "\n",
        "  words = nltk.word_tokenize(text)\n",
        "  new_words = words.copy()\n",
        "\n",
        "  indices = list(range(len(words) - 1))\n",
        "  print(indices)\n",
        "  if not indices:\n",
        "    return text\n",
        "\n",
        "  flip_index = random.choice(indices)\n",
        "  print(flip_index)\n",
        "  new_words[flip_index] ,new_words[flip_index + 1] = new_words[flip_index + 1], new_words[flip_index]\n",
        "\n",
        "  return ' '.join(new_words)"
      ]
    },
    {
      "cell_type": "code",
      "execution_count": null,
      "metadata": {
        "colab": {
          "base_uri": "https://localhost:8080/"
        },
        "id": "M3p96WhI1z9M",
        "outputId": "313928ab-16fe-41f0-d8cd-07b5248b216c"
      },
      "outputs": [
        {
          "name": "stdout",
          "output_type": "stream",
          "text": [
            "[0, 1, 2, 3, 4, 5]\n",
            "2\n",
            "Original True movie was absolutely fantastic and enjoyable\n",
            "Augmented True movie absolutely was fantastic and enjoyable\n"
          ]
        }
      ],
      "source": [
        "original = \"True movie was absolutely fantastic and enjoyable\"\n",
        "augmentated = bigram_flip(original)\n",
        "print('Original', original)\n",
        "print('Augmented', augmentated)"
      ]
    },
    {
      "cell_type": "code",
      "execution_count": null,
      "metadata": {
        "colab": {
          "base_uri": "https://localhost:8080/"
        },
        "id": "mbl138as7pIu",
        "outputId": "ccf5a009-d380-4775-d843-95757afe950f"
      },
      "outputs": [
        {
          "name": "stdout",
          "output_type": "stream",
          "text": [
            "Collecting deep-translator\n",
            "  Downloading deep_translator-1.11.4-py3-none-any.whl.metadata (30 kB)\n",
            "Requirement already satisfied: beautifulsoup4<5.0.0,>=4.9.1 in /usr/local/lib/python3.11/dist-packages (from deep-translator) (4.13.4)\n",
            "Requirement already satisfied: requests<3.0.0,>=2.23.0 in /usr/local/lib/python3.11/dist-packages (from deep-translator) (2.32.3)\n",
            "Requirement already satisfied: soupsieve>1.2 in /usr/local/lib/python3.11/dist-packages (from beautifulsoup4<5.0.0,>=4.9.1->deep-translator) (2.7)\n",
            "Requirement already satisfied: typing-extensions>=4.0.0 in /usr/local/lib/python3.11/dist-packages (from beautifulsoup4<5.0.0,>=4.9.1->deep-translator) (4.14.1)\n",
            "Requirement already satisfied: charset-normalizer<4,>=2 in /usr/local/lib/python3.11/dist-packages (from requests<3.0.0,>=2.23.0->deep-translator) (3.4.2)\n",
            "Requirement already satisfied: idna<4,>=2.5 in /usr/local/lib/python3.11/dist-packages (from requests<3.0.0,>=2.23.0->deep-translator) (3.10)\n",
            "Requirement already satisfied: urllib3<3,>=1.21.1 in /usr/local/lib/python3.11/dist-packages (from requests<3.0.0,>=2.23.0->deep-translator) (2.5.0)\n",
            "Requirement already satisfied: certifi>=2017.4.17 in /usr/local/lib/python3.11/dist-packages (from requests<3.0.0,>=2.23.0->deep-translator) (2025.7.14)\n",
            "Downloading deep_translator-1.11.4-py3-none-any.whl (42 kB)\n",
            "\u001b[2K   \u001b[90m━━━━━━━━━━━━━━━━━━━━━━━━━━━━━━━━━━━━━━━━\u001b[0m \u001b[32m42.3/42.3 kB\u001b[0m \u001b[31m2.9 MB/s\u001b[0m eta \u001b[36m0:00:00\u001b[0m\n",
            "\u001b[?25hInstalling collected packages: deep-translator\n",
            "Successfully installed deep-translator-1.11.4\n"
          ]
        }
      ],
      "source": [
        "!pip install deep-translator"
      ]
    },
    {
      "cell_type": "code",
      "execution_count": null,
      "metadata": {
        "id": "6bG7ofEO3tav"
      },
      "outputs": [],
      "source": [
        "\n",
        "from deep_translator  import GoogleTranslator\n",
        "\n",
        "def back_translate_verbose(text, intermedate_lang='fr'):\n",
        "  try:\n",
        "    translated = GoogleTranslator(source='auto', target=intermedate_lang).translate(text)\n",
        "    back_translated = GoogleTranslator(source='auto', target='en').translator(translated)\n",
        "\n",
        "    print(f\"original: {text}\")\n",
        "    print(f\"Translated: {intermedate_lang}: {translated}\")\n",
        "    print(f\"back translated to english: {back_translated}\")\n",
        "\n",
        "    return back_translated\n",
        "\n",
        "  except Exception as e:\n",
        "    print(f\"Error: {e}\")\n",
        "    return text"
      ]
    },
    {
      "cell_type": "code",
      "execution_count": null,
      "metadata": {
        "colab": {
          "base_uri": "https://localhost:8080/"
        },
        "id": "y_-l1cAI8XbW",
        "outputId": "f2b767c4-a303-4320-94ee-1ac4e76847e0"
      },
      "outputs": [
        {
          "name": "stdout",
          "output_type": "stream",
          "text": [
            "Error: 'GoogleTranslator' object has no attribute 'translator'\n",
            "True movie was absolutely fantastic and enjoyable\n"
          ]
        }
      ],
      "source": [
        "augmentated = back_translate_verbose(original, intermedate_lang='fr')\n",
        "print(augmentated)"
      ]
    },
    {
      "cell_type": "code",
      "execution_count": null,
      "metadata": {
        "id": "prnQUkLC4qYa"
      },
      "outputs": [],
      "source": [
        "def add_noise(text, noise_level=0.1):\n",
        "  text_chars = list(text)\n",
        "\n",
        "  num_noise_chars = int(len(text_chars)*noise_level)\n",
        "  print(num_noise_chars)\n",
        "  for _ in range(num_noise_chars):\n",
        "    index = random.randint(0, len(text_chars) - 2)\n",
        "    text_chars[index], text_chars[index + 1] = text_chars[index + 1], text_chars[index]\n",
        "\n",
        "  return ' '.join(text_chars)"
      ]
    },
    {
      "cell_type": "code",
      "execution_count": null,
      "metadata": {
        "colab": {
          "base_uri": "https://localhost:8080/"
        },
        "id": "8RckaaFr7Tbs",
        "outputId": "8f1df881-c9f9-46dd-c9de-665667c68a62"
      },
      "outputs": [
        {
          "name": "stdout",
          "output_type": "stream",
          "text": [
            "4\n",
            "True movie was absolutely fantastic and enjoyable\n",
            "True movie was absolutely fantastic and enjoyable\n"
          ]
        }
      ],
      "source": [
        "text4 = 'True movie was absolutely fantastic and enjoyable'\n",
        "augmenteated4 = add_noise(text4, noise_level=0.1)\n",
        "print(text4)\n",
        "print(augmentated)"
      ]
    },
    {
      "cell_type": "code",
      "execution_count": null,
      "metadata": {
        "id": "swQCCXFX74SJ"
      },
      "outputs": [],
      "source": [
        "def random_deletion(text, delection_prob=0.2):\n",
        "  words = text.split()\n",
        "  if len(words) == 1:\n",
        "    return text\n",
        "\n",
        "  new_words=[]\n",
        "  for word in words:\n",
        "    r=random.random()\n",
        "\n",
        "    if r>delection_prob:\n",
        "      new_words.append(word)\n",
        "\n",
        "  if not new_words:\n",
        "    new_words.append(random.choice(words))\n",
        "\n",
        "  return \" \".join(new_words)"
      ]
    },
    {
      "cell_type": "code",
      "execution_count": null,
      "metadata": {
        "colab": {
          "base_uri": "https://localhost:8080/"
        },
        "id": "bBMbQ8qWjDzQ",
        "outputId": "06fffe4c-4a14-47d4-b8cc-8874ccf54b4d"
      },
      "outputs": [
        {
          "name": "stdout",
          "output_type": "stream",
          "text": [
            "True movie was absolutely fantastic and enjoyable\n",
            "True movie and\n"
          ]
        }
      ],
      "source": [
        "text5 = 'True movie was absolutely fantastic and enjoyable'\n",
        "augmenteated5 = random_deletion(text5, delection_prob=0.7)\n",
        "print(text5)\n",
        "print(augmenteated5)"
      ]
    },
    {
      "cell_type": "code",
      "execution_count": null,
      "metadata": {
        "id": "D_QucFuVjN1N"
      },
      "outputs": [],
      "source": [
        "qwerty_neighbors = {\n",
        "    'a': ['s', 'q', 'z'],\n",
        "    'b': ['v', 'g', 'h', 'n'],\n",
        "    'c': ['x', 'd', 'f', 'v'],\n",
        "    'd': ['s', 'e', 'r', 'f', 'c', 'x'],\n",
        "    'e': ['w', 's', 'd', 'r'],\n",
        "    'f': ['d', 'r', 't', 'g', 'v', 'c'],\n",
        "    'g': ['f', 't', 'y', 'h', 'b', 'v'],\n",
        "    'h': ['g', 'y', 'u', 'j', 'n', 'b'],\n",
        "    'i': ['u', 'j', 'k', 'o'],\n",
        "    'j': ['h', 'u', 'i', 'k', 'n', 'm'],\n",
        "    'k': ['j', 'i', 'o', 'l', 'm'],\n",
        "    'l': ['k', 'o', 'p'],\n",
        "    'm': ['n', 'j', 'k'],\n",
        "    'n': ['b', 'h', 'j', 'm'],\n",
        "    'o': ['i', 'k', 'l', 'p'],\n",
        "    'p': ['o', 'l'],\n",
        "    'q': ['a', 's', 'w'],\n",
        "    'r': ['e', 'd', 'f', 't'],\n",
        "    's': ['a', 'w', 'e', 'd', 'x', 'z'],\n",
        "    't': ['r', 'f', 'g', 'y'],\n",
        "    'u': ['y', 'h', 'j', 'i'],\n",
        "    'v': ['c', 'f', 'g', 'b'],\n",
        "    'w': ['q', 'a', 's', 'e'],\n",
        "    'x': ['z', 's', 'd', 'c'],\n",
        "    'y': ['t', 'g', 'h', 'u'],\n",
        "    'z': ['a', 's', 'x']\n",
        "}\n",
        "\n",
        "def keyboard_typo(text, typo_prob=0.2):\n",
        "  new_text = []\n",
        "\n",
        "  for char in text:\n",
        "    lower_char=char.lower()\n",
        "\n",
        "    if char.lower() in qwerty_neighbors and random.random() < typo_prob:\n",
        "      neighbors = qwerty_neighbors[lower_char]\n",
        "      replacement = random.choice(neighbors)\n",
        "      new_text.append(replacement.upper() if char.isupper() else replacement)\n",
        "    else:\n",
        "      new_text.append(char)\n",
        "\n",
        "  return ''.join(new_text)"
      ]
    },
    {
      "cell_type": "code",
      "execution_count": null,
      "metadata": {
        "colab": {
          "base_uri": "https://localhost:8080/"
        },
        "id": "u9RPohnZlrW7",
        "outputId": "75574080-7205-4e19-937f-244ae163e778"
      },
      "outputs": [
        {
          "name": "stdout",
          "output_type": "stream",
          "text": [
            "True movie was absolutely fantastic and enjoyable\n",
            "True movos aas absolutely fanfadtic and enjoysbpr\n"
          ]
        }
      ],
      "source": [
        "text6 = 'True movie was absolutely fantastic and enjoyable'\n",
        "augmenteated6 = keyboard_typo(text6, typo_prob=0.2)\n",
        "print(text6)\n",
        "print(augmenteated6)"
      ]
    },
    {
      "cell_type": "markdown",
      "metadata": {
        "id": "keV805izmAcH"
      },
      "source": [
        "Data from other resources\n",
        "1. web scrabing"
      ]
    },
    {
      "cell_type": "code",
      "execution_count": null,
      "metadata": {
        "colab": {
          "base_uri": "https://localhost:8080/"
        },
        "id": "KB9af7Jklz-Y",
        "outputId": "665b61d4-433d-4c42-cb0a-ed88b16b5771"
      },
      "outputs": [
        {
          "name": "stdout",
          "output_type": "stream",
          "text": [
            "Requirement already satisfied: requests in /usr/local/lib/python3.11/dist-packages (2.32.3)\n",
            "Requirement already satisfied: beautifulsoup4 in /usr/local/lib/python3.11/dist-packages (4.13.4)\n",
            "Requirement already satisfied: charset-normalizer<4,>=2 in /usr/local/lib/python3.11/dist-packages (from requests) (3.4.2)\n",
            "Requirement already satisfied: idna<4,>=2.5 in /usr/local/lib/python3.11/dist-packages (from requests) (3.10)\n",
            "Requirement already satisfied: urllib3<3,>=1.21.1 in /usr/local/lib/python3.11/dist-packages (from requests) (2.5.0)\n",
            "Requirement already satisfied: certifi>=2017.4.17 in /usr/local/lib/python3.11/dist-packages (from requests) (2025.7.14)\n",
            "Requirement already satisfied: soupsieve>1.2 in /usr/local/lib/python3.11/dist-packages (from beautifulsoup4) (2.7)\n",
            "Requirement already satisfied: typing-extensions>=4.0.0 in /usr/local/lib/python3.11/dist-packages (from beautifulsoup4) (4.14.1)\n"
          ]
        }
      ],
      "source": [
        "!pip install requests beautifulsoup4"
      ]
    },
    {
      "cell_type": "code",
      "execution_count": null,
      "metadata": {
        "colab": {
          "base_uri": "https://localhost:8080/",
          "height": 106
        },
        "id": "tr-gJLQGnCsF",
        "outputId": "52dce12e-baf2-4d12-bdf7-c3670eb39681"
      },
      "outputs": [
        {
          "ename": "SyntaxError",
          "evalue": "invalid syntax (ipython-input-2762232306.py, line 14)",
          "output_type": "error",
          "traceback": [
            "\u001b[0;36m  File \u001b[0;32m\"/tmp/ipython-input-2762232306.py\"\u001b[0;36m, line \u001b[0;32m14\u001b[0m\n\u001b[0;31m    quote_html=str(quote_block.find('span', class='text'))\u001b[0m\n\u001b[0m                                            ^\u001b[0m\n\u001b[0;31mSyntaxError\u001b[0m\u001b[0;31m:\u001b[0m invalid syntax\n"
          ]
        }
      ],
      "source": [
        "import requests\n",
        "from bs4 import BeautifulSoup\n",
        "\n",
        "url = 'https://quotes.toscrape.com'\n",
        "\n",
        "response = requests.get(url)\n",
        "\n",
        "soup = BeautifulSoup(response.text, 'html.parser')\n",
        "\n",
        "quotes = soup.find_all('div', class_='text')\n",
        "# authors = soup.find_all('small', class_='author')\n",
        "\n",
        "for i,quote in enumerate(quotes, start=1):\n",
        "  quote_html=str(quote_block.find('span', class='text'))\n",
        "  author_html=str(quote_block.find('small', class='author'))\n",
        "  tag_element=quote_block.find('div', class='tags')\n",
        "  tags=[tag.text for tag in tag_element.find_all('a', class='tag')]\n"
      ]
    },
    {
      "cell_type": "code",
      "execution_count": null,
      "metadata": {
        "colab": {
          "background_save": true
        },
        "id": "eJPvj3TCqAdq",
        "outputId": "5bbf2ba3-4c8f-48a4-a815-bee1708a3f26"
      },
      "outputs": [
        {
          "name": "stdout",
          "output_type": "stream",
          "text": [
            "Requirement already satisfied: fitz in /usr/local/lib/python3.11/dist-packages (0.0.1.dev2)\n",
            "Requirement already satisfied: configobj in /usr/local/lib/python3.11/dist-packages (from fitz) (5.0.9)\n",
            "Requirement already satisfied: configparser in /usr/local/lib/python3.11/dist-packages (from fitz) (7.2.0)\n",
            "Requirement already satisfied: httplib2 in /usr/local/lib/python3.11/dist-packages (from fitz) (0.22.0)\n",
            "Requirement already satisfied: nibabel in /usr/local/lib/python3.11/dist-packages (from fitz) (5.3.2)\n",
            "Requirement already satisfied: nipype in /usr/local/lib/python3.11/dist-packages (from fitz) (1.10.0)\n",
            "Requirement already satisfied: numpy in /usr/local/lib/python3.11/dist-packages (from fitz) (2.0.2)\n",
            "Requirement already satisfied: pandas in /usr/local/lib/python3.11/dist-packages (from fitz) (2.2.2)\n",
            "Requirement already satisfied: pyxnat in /usr/local/lib/python3.11/dist-packages (from fitz) (1.6.3)\n",
            "Requirement already satisfied: scipy in /usr/local/lib/python3.11/dist-packages (from fitz) (1.16.0)\n",
            "Requirement already satisfied: pyparsing!=3.0.0,!=3.0.1,!=3.0.2,!=3.0.3,<4,>=2.4.2 in /usr/local/lib/python3.11/dist-packages (from httplib2->fitz) (3.2.3)\n",
            "Requirement already satisfied: importlib-resources>=5.12 in /usr/local/lib/python3.11/dist-packages (from nibabel->fitz) (6.5.2)\n",
            "Requirement already satisfied: packaging>=20 in /usr/local/lib/python3.11/dist-packages (from nibabel->fitz) (25.0)\n",
            "Requirement already satisfied: typing-extensions>=4.6 in /usr/local/lib/python3.11/dist-packages (from nibabel->fitz) (4.14.1)\n",
            "Requirement already satisfied: click>=6.6.0 in /usr/local/lib/python3.11/dist-packages (from nipype->fitz) (8.2.1)\n",
            "Requirement already satisfied: networkx>=2.5 in /usr/local/lib/python3.11/dist-packages (from nipype->fitz) (3.5)\n",
            "Requirement already satisfied: prov>=1.5.2 in /usr/local/lib/python3.11/dist-packages (from nipype->fitz) (2.1.1)\n",
            "Requirement already satisfied: pydot>=1.2.3 in /usr/local/lib/python3.11/dist-packages (from nipype->fitz) (3.0.4)\n",
            "Requirement already satisfied: python-dateutil>=2.2 in /usr/local/lib/python3.11/dist-packages (from nipype->fitz) (2.9.0.post0)\n",
            "Requirement already satisfied: rdflib>=5.0.0 in /usr/local/lib/python3.11/dist-packages (from nipype->fitz) (7.1.4)\n",
            "Requirement already satisfied: simplejson>=3.8.0 in /usr/local/lib/python3.11/dist-packages (from nipype->fitz) (3.20.1)\n",
            "Requirement already satisfied: traits>=6.2 in /usr/local/lib/python3.11/dist-packages (from nipype->fitz) (7.0.2)\n",
            "Requirement already satisfied: filelock>=3.0.0 in /usr/local/lib/python3.11/dist-packages (from nipype->fitz) (3.18.0)\n",
            "Requirement already satisfied: acres in /usr/local/lib/python3.11/dist-packages (from nipype->fitz) (0.5.0)\n",
            "Requirement already satisfied: etelemetry>=0.3.1 in /usr/local/lib/python3.11/dist-packages (from nipype->fitz) (0.3.1)\n",
            "Requirement already satisfied: looseversion!=1.2 in /usr/local/lib/python3.11/dist-packages (from nipype->fitz) (1.3.0)\n",
            "Requirement already satisfied: puremagic in /usr/local/lib/python3.11/dist-packages (from nipype->fitz) (1.30)\n",
            "Requirement already satisfied: pytz>=2020.1 in /usr/local/lib/python3.11/dist-packages (from pandas->fitz) (2025.2)\n",
            "Requirement already satisfied: tzdata>=2022.7 in /usr/local/lib/python3.11/dist-packages (from pandas->fitz) (2025.2)\n",
            "Requirement already satisfied: lxml>=4.3 in /usr/local/lib/python3.11/dist-packages (from pyxnat->fitz) (5.4.0)\n",
            "Requirement already satisfied: requests>=2.20 in /usr/local/lib/python3.11/dist-packages (from pyxnat->fitz) (2.32.3)\n",
            "Requirement already satisfied: pathlib>=1.0 in /usr/local/lib/python3.11/dist-packages (from pyxnat->fitz) (1.0.1)\n",
            "Requirement already satisfied: ci-info>=0.2 in /usr/local/lib/python3.11/dist-packages (from etelemetry>=0.3.1->nipype->fitz) (0.3.0)\n",
            "Requirement already satisfied: six>=1.5 in /usr/local/lib/python3.11/dist-packages (from python-dateutil>=2.2->nipype->fitz) (1.17.0)\n",
            "Requirement already satisfied: charset-normalizer<4,>=2 in /usr/local/lib/python3.11/dist-packages (from requests>=2.20->pyxnat->fitz) (3.4.2)\n",
            "Requirement already satisfied: idna<4,>=2.5 in /usr/local/lib/python3.11/dist-packages (from requests>=2.20->pyxnat->fitz) (3.10)\n",
            "Requirement already satisfied: urllib3<3,>=1.21.1 in /usr/local/lib/python3.11/dist-packages (from requests>=2.20->pyxnat->fitz) (2.5.0)\n",
            "Requirement already satisfied: certifi>=2017.4.17 in /usr/local/lib/python3.11/dist-packages (from requests>=2.20->pyxnat->fitz) (2025.7.14)\n"
          ]
        }
      ],
      "source": [
        "# !pip install fitz"
      ]
    },
    {
      "cell_type": "code",
      "execution_count": null,
      "metadata": {
        "colab": {
          "background_save": true,
          "base_uri": "https://localhost:8080/",
          "height": 383
        },
        "id": "q5aNJ4FZn4FT",
        "outputId": "d99a8abd-6912-44f5-cc6c-671088e7f3a5"
      },
      "outputs": [
        {
          "ename": "ModuleNotFoundError",
          "evalue": "No module named 'tools'",
          "output_type": "error",
          "traceback": [
            "\u001b[0;31m---------------------------------------------------------------------------\u001b[0m",
            "\u001b[0;31mModuleNotFoundError\u001b[0m                       Traceback (most recent call last)",
            "\u001b[0;32m/tmp/ipython-input-75690133.py\u001b[0m in \u001b[0;36m<cell line: 0>\u001b[0;34m()\u001b[0m\n\u001b[0;32m----> 1\u001b[0;31m \u001b[0;32mimport\u001b[0m \u001b[0mfitz\u001b[0m\u001b[0;34m\u001b[0m\u001b[0;34m\u001b[0m\u001b[0m\n\u001b[0m\u001b[1;32m      2\u001b[0m \u001b[0;34m\u001b[0m\u001b[0m\n\u001b[1;32m      3\u001b[0m \u001b[0mpdf_url\u001b[0m \u001b[0;34m=\u001b[0m \u001b[0;34m'/content/converted_text.pdf'\u001b[0m\u001b[0;34m\u001b[0m\u001b[0;34m\u001b[0m\u001b[0m\n\u001b[1;32m      4\u001b[0m \u001b[0;34m\u001b[0m\u001b[0m\n\u001b[1;32m      5\u001b[0m \u001b[0mdoc\u001b[0m \u001b[0;34m=\u001b[0m \u001b[0mfitz\u001b[0m\u001b[0;34m.\u001b[0m\u001b[0mopen\u001b[0m\u001b[0;34m(\u001b[0m\u001b[0mpdf_url\u001b[0m\u001b[0;34m)\u001b[0m\u001b[0;34m\u001b[0m\u001b[0;34m\u001b[0m\u001b[0m\n",
            "\u001b[0;32m/usr/local/lib/python3.11/dist-packages/fitz/__init__.py\u001b[0m in \u001b[0;36m<module>\u001b[0;34m\u001b[0m\n\u001b[1;32m      1\u001b[0m \u001b[0;32mfrom\u001b[0m \u001b[0mfrontend\u001b[0m \u001b[0;32mimport\u001b[0m \u001b[0;34m*\u001b[0m\u001b[0;34m\u001b[0m\u001b[0;34m\u001b[0m\u001b[0m\n\u001b[0;32m----> 2\u001b[0;31m \u001b[0;32mimport\u001b[0m \u001b[0mtools\u001b[0m\u001b[0;34m\u001b[0m\u001b[0;34m\u001b[0m\u001b[0m\n\u001b[0m\u001b[1;32m      3\u001b[0m \u001b[0;32mimport\u001b[0m \u001b[0mos\u001b[0m\u001b[0;34m.\u001b[0m\u001b[0mpath\u001b[0m \u001b[0;32mas\u001b[0m \u001b[0mop\u001b[0m\u001b[0;34m\u001b[0m\u001b[0;34m\u001b[0m\u001b[0m\n\u001b[1;32m      4\u001b[0m \u001b[0;34m\u001b[0m\u001b[0m\n\u001b[1;32m      5\u001b[0m \u001b[0m__version__\u001b[0m \u001b[0;34m=\u001b[0m \u001b[0;34m'0.0.1dev2'\u001b[0m\u001b[0;34m\u001b[0m\u001b[0;34m\u001b[0m\u001b[0m\n",
            "\u001b[0;31mModuleNotFoundError\u001b[0m: No module named 'tools'",
            "",
            "\u001b[0;31m---------------------------------------------------------------------------\u001b[0;32m\nNOTE: If your import is failing due to a missing package, you can\nmanually install dependencies using either !pip or !apt.\n\nTo view examples of installing some common dependencies, click the\n\"Open Examples\" button below.\n\u001b[0;31m---------------------------------------------------------------------------\u001b[0m\n"
          ]
        }
      ],
      "source": [
        "import fitz\n",
        "\n",
        "pdf_url = '/content/converted_text.pdf'\n",
        "\n",
        "doc = fitz.open(pdf_url)\n",
        "\n",
        "\n",
        "for page_num in enumerate(doc,start=1):\n",
        "    text = page.get_text()\n",
        "    print(f\"Page {page_num}:\")\n",
        "    print(text)"
      ]
    },
    {
      "cell_type": "code",
      "execution_count": null,
      "metadata": {
        "id": "WkT_xr7Hp-BZ"
      },
      "outputs": [],
      "source": []
    }
  ],
  "metadata": {
    "colab": {
      "provenance": [],
      "authorship_tag": "ABX9TyO1+gszEVoozr9Y1gyKGDYl",
      "include_colab_link": true
    },
    "kernelspec": {
      "display_name": "Python 3",
      "name": "python3"
    },
    "language_info": {
      "name": "python"
    }
  },
  "nbformat": 4,
  "nbformat_minor": 0
}