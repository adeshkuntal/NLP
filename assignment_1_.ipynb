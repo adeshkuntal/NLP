{
  "nbformat": 4,
  "nbformat_minor": 0,
  "metadata": {
    "colab": {
      "provenance": [],
      "authorship_tag": "ABX9TyMElkASW4XBsXC937jl5XCx",
      "include_colab_link": true
    },
    "kernelspec": {
      "name": "python3",
      "display_name": "Python 3"
    },
    "language_info": {
      "name": "python"
    }
  },
  "cells": [
    {
      "cell_type": "markdown",
      "metadata": {
        "id": "view-in-github",
        "colab_type": "text"
      },
      "source": [
        "<a href=\"https://colab.research.google.com/github/aryan151pratap/NLP/blob/main/assignment_1_.ipynb\" target=\"_parent\"><img src=\"https://colab.research.google.com/assets/colab-badge.svg\" alt=\"Open In Colab\"/></a>"
      ]
    },
    {
      "cell_type": "markdown",
      "source": [
        "**Class assignement-1**\n",
        "1. Print an f-string that displays NLP stands for Natural language processing using variable provided.\n",
        "2. Create a file in the current working directory called contacts.txt. by running the cell below.\n",
        "\n",
        "3. Open the file() and use read() to save the contents of the file to a string called fileds. Make sure the file is closed at the end.\n",
        "4. Use PyPDF2 to open any pdf file. Extract the text of pages 2.\n",
        "5.  open the file contacts.txt in the apprend mode. Add the text of page 2 from the above to contacts.txt\n",
        "6. Using the page_two text variable created above, extract any email address that were contained in the pdf file.  "
      ],
      "metadata": {
        "id": "wurmgx-4sECm"
      }
    },
    {
      "cell_type": "code",
      "execution_count": 19,
      "metadata": {
        "colab": {
          "base_uri": "https://localhost:8080/"
        },
        "id": "JeqkAXnCsCaG",
        "outputId": "6191078a-8167-4259-bb98-77f2a9a00b3f"
      },
      "outputs": [
        {
          "output_type": "stream",
          "name": "stdout",
          "text": [
            "NLP stands for Natural Language Processing\n"
          ]
        }
      ],
      "source": [
        "abbr= 'NLP'\n",
        "full_text='Natural Language Processing'\n",
        "print(f\"{abbr} stands for {full_text}\")"
      ]
    },
    {
      "cell_type": "code",
      "source": [
        "%%writefile contacts.txt\n",
        "First_Name Last_Name, Title, Extension,Email"
      ],
      "metadata": {
        "colab": {
          "base_uri": "https://localhost:8080/"
        },
        "id": "P5seUs3JsX5-",
        "outputId": "744dfd32-dd5b-4c4e-829c-6533328fa83f"
      },
      "execution_count": 20,
      "outputs": [
        {
          "output_type": "stream",
          "name": "stdout",
          "text": [
            "Writing contacts.txt\n"
          ]
        }
      ]
    },
    {
      "cell_type": "code",
      "source": [
        "file_data = open('contacts.txt')\n",
        "fields=file_data.read()\n",
        "print(fields)\n",
        "file_data.close()"
      ],
      "metadata": {
        "colab": {
          "base_uri": "https://localhost:8080/"
        },
        "id": "EjybNeGBsd6h",
        "outputId": "9ab79808-fdb5-47c4-edbb-d894eaa471ba"
      },
      "execution_count": 21,
      "outputs": [
        {
          "output_type": "stream",
          "name": "stdout",
          "text": [
            "First_Name Last_Name, Title, Extension,Email\n",
            "\n"
          ]
        }
      ]
    },
    {
      "cell_type": "code",
      "source": [
        "!pip install PyPDF2"
      ],
      "metadata": {
        "colab": {
          "base_uri": "https://localhost:8080/"
        },
        "id": "Z8Bo64yttHF0",
        "outputId": "4aa98fac-fb67-4d51-9903-34fba5f2a601"
      },
      "execution_count": 6,
      "outputs": [
        {
          "output_type": "stream",
          "name": "stdout",
          "text": [
            "Collecting PyPDF2\n",
            "  Downloading pypdf2-3.0.1-py3-none-any.whl.metadata (6.8 kB)\n",
            "Downloading pypdf2-3.0.1-py3-none-any.whl (232 kB)\n",
            "\u001b[2K   \u001b[90m━━━━━━━━━━━━━━━━━━━━━━━━━━━━━━━━━━━━━━━━\u001b[0m \u001b[32m232.6/232.6 kB\u001b[0m \u001b[31m2.1 MB/s\u001b[0m eta \u001b[36m0:00:00\u001b[0m\n",
            "\u001b[?25hInstalling collected packages: PyPDF2\n",
            "Successfully installed PyPDF2-3.0.1\n"
          ]
        }
      ]
    },
    {
      "cell_type": "code",
      "source": [
        "import PyPDF2\n",
        "f=open('converted_text.pdf', 'rb')\n",
        "data=PyPDF2.PdfReader(f)\n",
        "page_2=data.pages[1].extract_text()\n",
        "f.close()"
      ],
      "metadata": {
        "id": "hbeec1Xksxld"
      },
      "execution_count": 10,
      "outputs": []
    },
    {
      "cell_type": "code",
      "source": [
        "print(page_2)"
      ],
      "metadata": {
        "colab": {
          "base_uri": "https://localhost:8080/"
        },
        "id": "Aj7QjTBOtBTy",
        "outputId": "15aceba4-8702-4e4e-ca44-0218f3648f68"
      },
      "execution_count": 11,
      "outputs": [
        {
          "output_type": "stream",
          "name": "stdout",
          "text": [
            "Comments: Allow users to comment on posts and reply to each other’s comments.\n",
            "Mentions and Tags: Enable users to tag other users (e.g., @username) or use hashtags \n",
            "(#hashtag) in posts and comments for better engagement.\n",
            "Shares: Implement the functionality to allow users to share posts with their followers or in \n",
            "private messages.\n",
            " \n",
            "6. Private Messaging\n",
            " \n",
            "Direct Messages (DMs): Implement private messaging between users, where they can send \n",
            "and receive text, images, or videos.\n",
            "Group Chats: Allow users to create group chats with multiple participants.\n",
            "Notifications: Notify users when they receive a new message or notification related to their \n",
            "account.\n",
            " \n",
            "7. Notifications\n",
            " \n",
            "Real-time Alerts: Notify users about new followers, likes, comments, and mentions in real-\n",
            "time (using technologies like WebSockets or Firebase).\n",
            "Push Notifications: Enable push notifications to keep users engaged even when they are not \n",
            "actively using the site.\n",
            "Email Notifications: Send email alerts for important actions like password changes or new \n",
            "messages.\n",
            " \n",
            "8. Search and Discoverability\n",
            " \n",
            "Search Functionality: Allow users to search for posts, other users, hashtags, or content within \n",
            "the platform.\n",
            "Trending Topics: Display trending topics or popular content based on user activity and \n",
            "engagement.\n",
            "Hashtags: Allow users to add hashtags to posts for categorization and easier discoverability.\n",
            " \n",
            "9. Content Moderation and Reporting\n",
            " \n",
            "Flagging Inappropriate Content: Allow users to report posts or comments that violate \n",
            "community guidelines.\n",
            "Admin Panel: Develop an admin interface where administrators can review flagged content, \n",
            "block users, or take necessary actions to ensure a safe community.\n",
            "Content Filtering: Implement automatic content moderation features like detecting profanity \n",
            "or offensive language.\n",
            " \n",
            "10. Privacy and Security\n",
            " \n",
            "Profile Privacy Settings: Let users control who can see their posts, send them messages, or \n",
            "follow them (public, private, or friends-only settings).\n",
            "Two-Factor Authentication (2FA): Enhance user security by offering two-factor authentication \n",
            "during login.\n",
            "Data Encryption: Ensure sensitive data, such as passwords, are encrypted and stored \n"
          ]
        }
      ]
    },
    {
      "cell_type": "code",
      "source": [
        "txt_file_append=open('contacts.txt', 'a+')\n",
        "txt_file_append.write(page_2)\n",
        "txt_file_append.seek(0)\n",
        "print(txt_file_append.read())\n",
        "txt_file_append.close()"
      ],
      "metadata": {
        "colab": {
          "base_uri": "https://localhost:8080/"
        },
        "id": "AFxmWFFetvyt",
        "outputId": "ad910730-b8fd-4bfb-f398-6688e223b742"
      },
      "execution_count": 22,
      "outputs": [
        {
          "output_type": "stream",
          "name": "stdout",
          "text": [
            "First_Name Last_Name, Title, Extension,Email\n",
            "Comments: Allow users to comment on posts and reply to each other’s comments.\n",
            "Mentions and Tags: Enable users to tag other users (e.g., @username) or use hashtags \n",
            "(#hashtag) in posts and comments for better engagement.\n",
            "Shares: Implement the functionality to allow users to share posts with their followers or in \n",
            "private messages.\n",
            " \n",
            "6. Private Messaging\n",
            " \n",
            "Direct Messages (DMs): Implement private messaging between users, where they can send \n",
            "and receive text, images, or videos.\n",
            "Group Chats: Allow users to create group chats with multiple participants.\n",
            "Notifications: Notify users when they receive a new message or notification related to their \n",
            "account.\n",
            " \n",
            "7. Notifications\n",
            " \n",
            "Real-time Alerts: Notify users about new followers, likes, comments, and mentions in real-\n",
            "time (using technologies like WebSockets or Firebase).\n",
            "Push Notifications: Enable push notifications to keep users engaged even when they are not \n",
            "actively using the site.\n",
            "Email Notifications: Send email alerts for important actions like password changes or new \n",
            "messages.\n",
            " \n",
            "8. Search and Discoverability\n",
            " \n",
            "Search Functionality: Allow users to search for posts, other users, hashtags, or content within \n",
            "the platform.\n",
            "Trending Topics: Display trending topics or popular content based on user activity and \n",
            "engagement.\n",
            "Hashtags: Allow users to add hashtags to posts for categorization and easier discoverability.\n",
            " \n",
            "9. Content Moderation and Reporting\n",
            " \n",
            "Flagging Inappropriate Content: Allow users to report posts or comments that violate \n",
            "community guidelines.\n",
            "Admin Panel: Develop an admin interface where administrators can review flagged content, \n",
            "block users, or take necessary actions to ensure a safe community.\n",
            "Content Filtering: Implement automatic content moderation features like detecting profanity \n",
            "or offensive language.\n",
            " \n",
            "10. Privacy and Security\n",
            " \n",
            "Profile Privacy Settings: Let users control who can see their posts, send them messages, or \n",
            "follow them (public, private, or friends-only settings).\n",
            "Two-Factor Authentication (2FA): Enhance user security by offering two-factor authentication \n",
            "during login.\n",
            "Data Encryption: Ensure sensitive data, such as passwords, are encrypted and stored \n"
          ]
        }
      ]
    },
    {
      "cell_type": "code",
      "source": [
        "import re\n",
        "pattern=r'[\\w]+@[\\w]+.\\w{3}'\n",
        "email=re.findall(pattern, page_2)\n",
        "print(email)"
      ],
      "metadata": {
        "colab": {
          "base_uri": "https://localhost:8080/"
        },
        "id": "uQXmwArRuxhg",
        "outputId": "1f57234f-7998-4f72-b823-06756bd7833c"
      },
      "execution_count": 23,
      "outputs": [
        {
          "output_type": "stream",
          "name": "stdout",
          "text": [
            "[]\n"
          ]
        }
      ]
    },
    {
      "cell_type": "code",
      "source": [],
      "metadata": {
        "id": "OU3IxgNTu1tW"
      },
      "execution_count": null,
      "outputs": []
    }
  ]
}