{
  "nbformat": 4,
  "nbformat_minor": 0,
  "metadata": {
    "colab": {
      "provenance": [],
      "authorship_tag": "ABX9TyOWG9LOE0XLAtVo35DpiEmN",
      "include_colab_link": true
    },
    "kernelspec": {
      "name": "python3",
      "display_name": "Python 3"
    },
    "language_info": {
      "name": "python"
    }
  },
  "cells": [
    {
      "cell_type": "markdown",
      "metadata": {
        "id": "view-in-github",
        "colab_type": "text"
      },
      "source": [
        "<a href=\"https://colab.research.google.com/github/aryan151pratap/NLP/blob/main/Untitled27.ipynb\" target=\"_parent\"><img src=\"https://colab.research.google.com/assets/colab-badge.svg\" alt=\"Open In Colab\"/></a>"
      ]
    },
    {
      "cell_type": "code",
      "execution_count": 28,
      "metadata": {
        "colab": {
          "base_uri": "https://localhost:8080/"
        },
        "id": "0atS58IAuGM-",
        "outputId": "2b1ccb4b-61ea-43f7-fdee-f30b32702f1c"
      },
      "outputs": [
        {
          "output_type": "stream",
          "name": "stdout",
          "text": [
            "None\n"
          ]
        }
      ],
      "source": [
        "import re\n",
        "\n",
        "text='regular expression is used to matching the text and finding the text 2676767 4 5'\n",
        "new_text=re.match('the', text)\n",
        "print(new_text) # match function match and find only the first word"
      ]
    },
    {
      "cell_type": "code",
      "source": [
        "search=re.search('the', text) # search function find only one word\n",
        "print(search)"
      ],
      "metadata": {
        "colab": {
          "base_uri": "https://localhost:8080/"
        },
        "id": "bIvOYsVsudgl",
        "outputId": "1094e341-c21a-494e-a22c-96e05419c5f9"
      },
      "execution_count": 4,
      "outputs": [
        {
          "output_type": "stream",
          "name": "stdout",
          "text": [
            "<re.Match object; span=(39, 42), match='the'>\n"
          ]
        }
      ]
    },
    {
      "cell_type": "code",
      "source": [
        "search=re.findall('the', text) # findall function find all the existing words\n",
        "print(search)"
      ],
      "metadata": {
        "colab": {
          "base_uri": "https://localhost:8080/"
        },
        "id": "LeHyQWPbunKo",
        "outputId": "2fac5f0b-bc2d-4766-8ff1-d7e4869eecd6"
      },
      "execution_count": 8,
      "outputs": [
        {
          "output_type": "stream",
          "name": "stdout",
          "text": [
            "['the', 'the']\n"
          ]
        }
      ]
    },
    {
      "cell_type": "code",
      "source": [
        "search=re.findall(r'\\br', text)\n",
        "print(search)"
      ],
      "metadata": {
        "colab": {
          "base_uri": "https://localhost:8080/"
        },
        "id": "P-LDcc6Lvdvw",
        "outputId": "adcacd09-0aa4-453a-c0bb-7754effff480"
      },
      "execution_count": 12,
      "outputs": [
        {
          "output_type": "stream",
          "name": "stdout",
          "text": [
            "['r']\n"
          ]
        }
      ]
    },
    {
      "cell_type": "markdown",
      "source": [
        "e\\b -> gives the no. of 'e' according to no. of matches words having last letter 'e'\n",
        "\n",
        "\\be -> will match the first words in letter\n",
        "\n",
        "w*e\\b -> give the whole words matches the 'e' letter int the last of the words\n",
        "\n",
        "\\d -> to find the digits"
      ],
      "metadata": {
        "id": "VVo1tYbiwcmX"
      }
    },
    {
      "cell_type": "code",
      "source": [
        "search=re.findall(r'\\w*e\\b', text)\n",
        "print(search)"
      ],
      "metadata": {
        "id": "AXgy8i7pwAsf",
        "outputId": "6fdbeb70-b48d-4b58-8450-2fc4c58a23ba",
        "colab": {
          "base_uri": "https://localhost:8080/"
        }
      },
      "execution_count": 16,
      "outputs": [
        {
          "output_type": "stream",
          "name": "stdout",
          "text": [
            "['t', 't', 't', 't', 't']\n"
          ]
        }
      ]
    },
    {
      "cell_type": "code",
      "source": [
        "re.findall(r'\\d', text)"
      ],
      "metadata": {
        "id": "8OgCe96HwZ1n",
        "outputId": "6c6f2b18-32b2-447f-adcb-f77c3f21c1df",
        "colab": {
          "base_uri": "https://localhost:8080/"
        }
      },
      "execution_count": 29,
      "outputs": [
        {
          "output_type": "execute_result",
          "data": {
            "text/plain": [
              "['2', '6', '7', '6', '7', '6', '7', '4', '5']"
            ]
          },
          "metadata": {},
          "execution_count": 29
        }
      ]
    },
    {
      "cell_type": "code",
      "source": [
        "re.findall(r'\\d+', text)"
      ],
      "metadata": {
        "id": "KDH3vyisyozE",
        "outputId": "0c0c594a-bbd4-4cce-d73c-b8a69ef117a4",
        "colab": {
          "base_uri": "https://localhost:8080/"
        }
      },
      "execution_count": 31,
      "outputs": [
        {
          "output_type": "execute_result",
          "data": {
            "text/plain": [
              "['2676767', '4', '5']"
            ]
          },
          "metadata": {},
          "execution_count": 31
        }
      ]
    },
    {
      "cell_type": "code",
      "source": [
        "print(re.findall(r'\\D', text))"
      ],
      "metadata": {
        "id": "FykxmyGCzNqp",
        "outputId": "d9993366-2b2c-4f7b-c26c-33af30b6509e",
        "colab": {
          "base_uri": "https://localhost:8080/"
        }
      },
      "execution_count": 34,
      "outputs": [
        {
          "output_type": "stream",
          "name": "stdout",
          "text": [
            "['r', 'e', 'g', 'u', 'l', 'a', 'r', ' ', 'e', 'x', 'p', 'r', 'e', 's', 's', 'i', 'o', 'n', ' ', 'i', 's', ' ', 'u', 's', 'e', 'd', ' ', 't', 'o', ' ', 'm', 'a', 't', 'c', 'h', 'i', 'n', 'g', ' ', 't', 'h', 'e', ' ', 't', 'e', 'x', 't', ' ', 'a', 'n', 'd', ' ', 'f', 'i', 'n', 'd', 'i', 'n', 'g', ' ', 't', 'h', 'e', ' ', 't', 'e', 'x', 't', ' ', ' ', ' ']\n"
          ]
        }
      ]
    },
    {
      "cell_type": "code",
      "source": [
        "re.findall(r'\\D+', text)"
      ],
      "metadata": {
        "id": "XVxiflvoxwrz",
        "outputId": "8fe3a366-9ab0-45bb-f7e6-6e60ab2ea532",
        "colab": {
          "base_uri": "https://localhost:8080/"
        }
      },
      "execution_count": 32,
      "outputs": [
        {
          "output_type": "execute_result",
          "data": {
            "text/plain": [
              "['regular expression is used to matching the text and finding the text ',\n",
              " ' ',\n",
              " ' ']"
            ]
          },
          "metadata": {},
          "execution_count": 32
        }
      ]
    },
    {
      "cell_type": "markdown",
      "source": [
        "\\w -> split all the letter in list with out space\n",
        "\n",
        "\\W -> find the list of space present in the text"
      ],
      "metadata": {
        "id": "UHitr9DV0L47"
      }
    },
    {
      "cell_type": "code",
      "source": [
        "print(re.findall(r'\\w', text))"
      ],
      "metadata": {
        "id": "uMlhGt1fzE_b",
        "outputId": "8445df04-1507-4797-e94b-ee33f856fa84",
        "colab": {
          "base_uri": "https://localhost:8080/"
        }
      },
      "execution_count": 38,
      "outputs": [
        {
          "output_type": "stream",
          "name": "stdout",
          "text": [
            "['r', 'e', 'g', 'u', 'l', 'a', 'r', 'e', 'x', 'p', 'r', 'e', 's', 's', 'i', 'o', 'n', 'i', 's', 'u', 's', 'e', 'd', 't', 'o', 'm', 'a', 't', 'c', 'h', 'i', 'n', 'g', 't', 'h', 'e', 't', 'e', 'x', 't', 'a', 'n', 'd', 'f', 'i', 'n', 'd', 'i', 'n', 'g', 't', 'h', 'e', 't', 'e', 'x', 't', '2', '6', '7', '6', '7', '6', '7', '4', '5']\n"
          ]
        }
      ]
    },
    {
      "cell_type": "code",
      "source": [
        "print(re.findall(r'\\W', text))"
      ],
      "metadata": {
        "id": "vS0iPU9XzXxf",
        "outputId": "c5c3e504-e8c9-4afd-9041-cdaf3565c54a",
        "colab": {
          "base_uri": "https://localhost:8080/"
        }
      },
      "execution_count": 39,
      "outputs": [
        {
          "output_type": "stream",
          "name": "stdout",
          "text": [
            "[' ', ' ', ' ', ' ', ' ', ' ', ' ', ' ', ' ', ' ', ' ', ' ', ' ', ' ']\n"
          ]
        }
      ]
    },
    {
      "cell_type": "markdown",
      "source": [
        "**Meaning of t.**\n",
        "\n",
        "t → literal character t\n",
        "\n",
        ". → matches any single character except newline\n",
        "\n",
        "So t. means:\n",
        "\n",
        "Find every \"t\" followed by one more character."
      ],
      "metadata": {
        "id": "LCAbP2ua1J7w"
      }
    },
    {
      "cell_type": "code",
      "source": [
        "text = \"this is text for testing\"\n",
        "print(re.findall(r't.', text))\n"
      ],
      "metadata": {
        "id": "96JZ9WsEx7Zq"
      },
      "execution_count": null,
      "outputs": []
    },
    {
      "cell_type": "markdown",
      "source": [
        "Meaning of ^ex\n",
        "^ → Matches the beginning of the string (or line)\n",
        "\n",
        "ex → The literal characters ex"
      ],
      "metadata": {
        "id": "hZ_F2joo0ziw"
      }
    },
    {
      "cell_type": "code",
      "source": [
        "print(re.findall(r'^re', text))"
      ],
      "metadata": {
        "id": "R7lbl9PGzmv-",
        "outputId": "2c0f75dd-c5c1-41b8-8b42-7f9e4ecd44b3",
        "colab": {
          "base_uri": "https://localhost:8080/"
        }
      },
      "execution_count": 51,
      "outputs": [
        {
          "output_type": "stream",
          "name": "stdout",
          "text": [
            "['re']\n"
          ]
        }
      ]
    },
    {
      "cell_type": "code",
      "source": [
        "tevxt = 'a jsd dkspod klwmsld'\n",
        "print(re.findall(r'\\w*j*d', tevxt))"
      ],
      "metadata": {
        "id": "hXHhxbWjz-nB"
      },
      "execution_count": null,
      "outputs": []
    },
    {
      "cell_type": "code",
      "source": [],
      "metadata": {
        "id": "DVPG0zNq2P64"
      },
      "execution_count": null,
      "outputs": []
    },
    {
      "cell_type": "code",
      "source": [],
      "metadata": {
        "id": "BXOGCNCC2Czx"
      },
      "execution_count": null,
      "outputs": []
    }
  ]
}
