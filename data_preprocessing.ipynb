{
  "cells": [
    {
      "cell_type": "markdown",
      "metadata": {
        "id": "view-in-github",
        "colab_type": "text"
      },
      "source": [
        "<a href=\"https://colab.research.google.com/github/aryan151pratap/NLP/blob/main/data_preprocessing.ipynb\" target=\"_parent\"><img src=\"https://colab.research.google.com/assets/colab-badge.svg\" alt=\"Open In Colab\"/></a>"
      ]
    },
    {
      "cell_type": "markdown",
      "source": [
        "**Regular Expression** -> set of character that is used to find a text\n"
      ],
      "metadata": {
        "id": "9D3oOyhUJYAG"
      }
    },
    {
      "cell_type": "code",
      "execution_count": 36,
      "metadata": {
        "id": "0atS58IAuGM-"
      },
      "outputs": [],
      "source": [
        "text = '<a>the <h>movie</h> was good</a>'"
      ]
    },
    {
      "cell_type": "code",
      "execution_count": 47,
      "metadata": {
        "id": "bIvOYsVsudgl"
      },
      "outputs": [],
      "source": [
        "import re"
      ]
    },
    {
      "cell_type": "code",
      "execution_count": 40,
      "metadata": {
        "id": "LeHyQWPbunKo"
      },
      "outputs": [],
      "source": [
        "def remove_html_tag(text):\n",
        "  pattern=re.compile('<.*?>')\n",
        "  return pattern.sub(r'', text)"
      ]
    },
    {
      "cell_type": "code",
      "source": [
        "remove_html_tag(text)"
      ],
      "metadata": {
        "colab": {
          "base_uri": "https://localhost:8080/",
          "height": 36
        },
        "id": "JictE3y-JFsc",
        "outputId": "08027d3c-6d5c-4724-f271-b43c345e986e"
      },
      "execution_count": 41,
      "outputs": [
        {
          "output_type": "execute_result",
          "data": {
            "text/plain": [
              "'the movie was good'"
            ],
            "application/vnd.google.colaboratory.intrinsic+json": {
              "type": "string"
            }
          },
          "metadata": {},
          "execution_count": 41
        }
      ]
    },
    {
      "cell_type": "code",
      "source": [
        "from bs4 import BeautifulSoup\n",
        "def remove_html_bs4(text):\n",
        "    return BeautifulSoup(text, \"html.parser\").get_text()"
      ],
      "metadata": {
        "id": "XMdmWTrAKLgY"
      },
      "execution_count": 42,
      "outputs": []
    },
    {
      "cell_type": "code",
      "source": [
        "remove_html_bs4(text)"
      ],
      "metadata": {
        "colab": {
          "base_uri": "https://localhost:8080/",
          "height": 36
        },
        "id": "QXoQrWYgMK5x",
        "outputId": "a0f606a3-8f94-4530-fa99-3931de4e8742"
      },
      "execution_count": 43,
      "outputs": [
        {
          "output_type": "execute_result",
          "data": {
            "text/plain": [
              "'the movie was good'"
            ],
            "application/vnd.google.colaboratory.intrinsic+json": {
              "type": "string"
            }
          },
          "metadata": {},
          "execution_count": 43
        }
      ]
    },
    {
      "cell_type": "code",
      "source": [
        "text2='check out the url https://colab.research.google.com/drive/1UPBbX4M0xBWLEkZ7v3EJ4QFXU9k4Y09m#scrollTo=RpkksVc0MNx_'\n",
        "text3='check the google url www.google.com'"
      ],
      "metadata": {
        "id": "RpkksVc0MNx_"
      },
      "execution_count": 54,
      "outputs": []
    },
    {
      "cell_type": "code",
      "source": [
        "def remove_url(text):\n",
        "  pattern=re.compile(r'https?://\\S+|www\\.\\S+')\n",
        "  return pattern.sub(r'', text)"
      ],
      "metadata": {
        "id": "9UkvWJ6pMu0R"
      },
      "execution_count": 55,
      "outputs": []
    },
    {
      "cell_type": "code",
      "source": [
        "remove_url(text2)"
      ],
      "metadata": {
        "colab": {
          "base_uri": "https://localhost:8080/",
          "height": 36
        },
        "id": "0oq0ejmnM__J",
        "outputId": "43cd03b5-72bd-4778-969a-3fe462b5ad93"
      },
      "execution_count": 56,
      "outputs": [
        {
          "output_type": "execute_result",
          "data": {
            "text/plain": [
              "'check out the url '"
            ],
            "application/vnd.google.colaboratory.intrinsic+json": {
              "type": "string"
            }
          },
          "metadata": {},
          "execution_count": 56
        }
      ]
    },
    {
      "cell_type": "code",
      "source": [
        "remove_url(text3)"
      ],
      "metadata": {
        "colab": {
          "base_uri": "https://localhost:8080/",
          "height": 36
        },
        "id": "0xG82Tc8NS6i",
        "outputId": "74d504b9-7661-4614-f711-70a3df945da4"
      },
      "execution_count": 57,
      "outputs": [
        {
          "output_type": "execute_result",
          "data": {
            "text/plain": [
              "'check the google url '"
            ],
            "application/vnd.google.colaboratory.intrinsic+json": {
              "type": "string"
            }
          },
          "metadata": {},
          "execution_count": 57
        }
      ]
    },
    {
      "cell_type": "code",
      "source": [
        "import string\n",
        "string.punctuation"
      ],
      "metadata": {
        "colab": {
          "base_uri": "https://localhost:8080/",
          "height": 36
        },
        "id": "LtOkwmh1NTOu",
        "outputId": "6c7a0a03-0dc4-4ad1-9034-c4241ca1091a"
      },
      "execution_count": 58,
      "outputs": [
        {
          "output_type": "execute_result",
          "data": {
            "text/plain": [
              "'!\"#$%&\\'()*+,-./:;<=>?@[\\\\]^_`{|}~'"
            ],
            "application/vnd.google.colaboratory.intrinsic+json": {
              "type": "string"
            }
          },
          "metadata": {},
          "execution_count": 58
        }
      ]
    },
    {
      "cell_type": "code",
      "source": [
        "exclude=string.punctuation"
      ],
      "metadata": {
        "id": "uathCrIdNciB"
      },
      "execution_count": 59,
      "outputs": []
    },
    {
      "cell_type": "code",
      "source": [
        "def remove_punc(text):\n",
        "  for char in exclude:\n",
        "    text=text.replace(char,'')\n",
        "  return text"
      ],
      "metadata": {
        "id": "xaX0tVISNevf"
      },
      "execution_count": 60,
      "outputs": []
    },
    {
      "cell_type": "code",
      "source": [
        "remove_punc(text2)"
      ],
      "metadata": {
        "colab": {
          "base_uri": "https://localhost:8080/",
          "height": 36
        },
        "id": "aKcBBPfeNnEf",
        "outputId": "ca86e10c-ac32-4871-dbfb-31547f3eb37a"
      },
      "execution_count": 61,
      "outputs": [
        {
          "output_type": "execute_result",
          "data": {
            "text/plain": [
              "'check out the url httpscolabresearchgooglecomdrive1UPBbX4M0xBWLEkZ7v3EJ4QFXU9k4Y09mscrollToRpkksVc0MNx'"
            ],
            "application/vnd.google.colaboratory.intrinsic+json": {
              "type": "string"
            }
          },
          "metadata": {},
          "execution_count": 61
        }
      ]
    },
    {
      "cell_type": "code",
      "source": [
        "from textblob import TextBlob"
      ],
      "metadata": {
        "id": "DgNaM9zRNpkr"
      },
      "execution_count": 62,
      "outputs": []
    },
    {
      "cell_type": "code",
      "source": [
        "incorrect_text = 'thhis is most justifid, since it will be considered as a mistake'\n",
        "textBlb=TextBlob(incorrect_text)\n",
        "textBlb.correct().string"
      ],
      "metadata": {
        "colab": {
          "base_uri": "https://localhost:8080/",
          "height": 36
        },
        "id": "bT7byZFPOGYw",
        "outputId": "76c30202-870a-4e2a-f3fb-1c918daf65a7"
      },
      "execution_count": 63,
      "outputs": [
        {
          "output_type": "execute_result",
          "data": {
            "text/plain": [
              "'this is most justified, since it will be considered as a mistake'"
            ],
            "application/vnd.google.colaboratory.intrinsic+json": {
              "type": "string"
            }
          },
          "metadata": {},
          "execution_count": 63
        }
      ]
    },
    {
      "cell_type": "markdown",
      "source": [
        "**Handling Emojis:** Unicode Normalization"
      ],
      "metadata": {
        "id": "IMaFvZojOd7p"
      }
    },
    {
      "cell_type": "code",
      "source": [
        "emoji_text='hey this is to convert emoji into a maxhine understandable format. here is 😏 😏'"
      ],
      "metadata": {
        "id": "AH0nFU1COYx5"
      },
      "execution_count": 71,
      "outputs": []
    },
    {
      "cell_type": "code",
      "source": [
        "emoji_text.encode('utf-8')"
      ],
      "metadata": {
        "colab": {
          "base_uri": "https://localhost:8080/"
        },
        "id": "14aknl54O4xv",
        "outputId": "f2daf3e6-8949-4273-eb89-62ed553d43ce"
      },
      "execution_count": 72,
      "outputs": [
        {
          "output_type": "execute_result",
          "data": {
            "text/plain": [
              "b'hey this is to convert emoji into a maxhine understandable format. here is \\xf0\\x9f\\x98\\x8f \\xf0\\x9f\\x98\\x8f'"
            ]
          },
          "metadata": {},
          "execution_count": 72
        }
      ]
    },
    {
      "cell_type": "code",
      "source": [],
      "metadata": {
        "id": "rPWCbK8mO9e0"
      },
      "execution_count": 70,
      "outputs": []
    }
  ],
  "metadata": {
    "colab": {
      "provenance": [],
      "authorship_tag": "ABX9TyM0I3cZ27KCEkwRqpI9hvqN",
      "include_colab_link": true
    },
    "kernelspec": {
      "display_name": "Python 3",
      "name": "python3"
    },
    "language_info": {
      "name": "python"
    }
  },
  "nbformat": 4,
  "nbformat_minor": 0
}